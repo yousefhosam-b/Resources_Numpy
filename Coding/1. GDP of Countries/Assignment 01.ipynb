{
 "cells": [
  {
   "cell_type": "markdown",
   "metadata": {},
   "source": [
    "<img src=\"http://cfs22.simplicdn.net/ice9/new_logo.svgz \"/>\n",
    "\n",
    "# Assignment 01: Evaluate the GDP Dataset\n",
    "\n",
    "*The comments/sections provided are your cues to perform the assignment. You don't need to limit yourself to the number of rows/cells provided. You can add additional rows in each section to add more lines of code.*\n",
    "\n",
    "*If at any point in time you need help on solving this assignment, view our demo video to understand the different steps of the code.*\n",
    "\n",
    "**Happy coding!**\n",
    "\n",
    "* * *"
   ]
  },
  {
   "cell_type": "markdown",
   "metadata": {},
   "source": [
    "#### 1: View and add the dataset"
   ]
  },
  {
   "cell_type": "code",
   "execution_count": 1,
   "metadata": {},
   "outputs": [],
   "source": [
    "#Import required library\n",
    "import numpy as np"
   ]
  },
  {
   "cell_type": "code",
   "execution_count": 2,
   "metadata": {},
   "outputs": [],
   "source": [
    "#Manually add the dataset\n",
    "countries = np.array(['Algeria','Angola','Argentina','Australia','Austria','Bahamas','Bangladesh',\n",
    "                      'Belarus','Belgium','Bhutan','Brazil','Bulgaria','Cambodia','Cameroon','Chile',\n",
    "                      'China','Colombia','Cyprus','Denmark','El Salvador','Estonia','Ethiopia','Fiji',\n",
    "                      'Finland','France','Georgia','Ghana','Grenada','Guinea','Haiti','Honduras',\n",
    "                      'Hungary','India','Indonesia','Ireland','Italy','Japan','Kenya', 'South Korea',\n",
    "                      'Liberia','Malaysia','Mexico', 'Morocco','Nepal','New Zealand','Norway','Pakistan',\n",
    "                      'Peru','Qatar','Russia','Singapore','South Africa','Spain','Sweden','Switzerland',\n",
    "                      'Thailand', 'United Arab Emirates','United Kingdom','United States','Uruguay',\n",
    "                      'Venezuela','Vietnam','Zimbabwe'])\n",
    "\n",
    "\n",
    "GDP_per_capita = np.array([2255.225482,629.9553062,11601.63022,25306.82494,27266.40335,19466.99052,\n",
    "                           588.3691778,2890.345675,24733.62696,1445.760002,4803.398244,2618.876037,\n",
    "                           590.4521124,665.7982328,7122.938458,2639.54156,3362.4656,15378.16704,\n",
    "                           30860.12808,2579.115607,6525.541272,229.6769525,2242.689259,27570.4852,\n",
    "                           23016.84778,1334.646773,402.6953275,6047.200797,394.1156638,385.5793827,\n",
    "                           1414.072488,5745.981529,837.7464011,1206.991065,27715.52837,18937.24998,\n",
    "                           39578.07441,478.2194906,16684.21278,279.2204061,5345.213415,6288.25324,\n",
    "                           1908.304416,274.8728621,14646.42094,40034.85063,672.1547506,3359.517402,\n",
    "                           36152.66676,3054.727742,33529.83052,3825.093781,15428.32098,33630.24604,\n",
    "                           39170.41371,2699.123242,21058.43643,28272.40661,37691.02733,9581.05659,\n",
    "                           5671.912202,757.4009286,347.7456605])"
   ]
  },
  {
   "cell_type": "markdown",
   "metadata": {
    "collapsed": true
   },
   "source": [
    "#### 2: Find and print the name of the country with the highest GDP"
   ]
  },
  {
   "cell_type": "code",
   "execution_count": 5,
   "metadata": {},
   "outputs": [],
   "source": [
    "#Use the argmax() method to find the highest GDP\n",
    "highest_GDP = GDP_per_capita.argmax()"
   ]
  },
  {
   "cell_type": "code",
   "execution_count": 7,
   "metadata": {},
   "outputs": [
    {
     "data": {
      "text/plain": [
       "'Norway'"
      ]
     },
     "execution_count": 7,
     "metadata": {},
     "output_type": "execute_result"
    }
   ],
   "source": [
    "#Print the name of the country\n",
    "highest_country_GDP = countries[highest_GDP]\n",
    "highest_country_GDP"
   ]
  },
  {
   "cell_type": "markdown",
   "metadata": {},
   "source": [
    "#### 3: Find and print the name of the country with the lowest GDP"
   ]
  },
  {
   "cell_type": "code",
   "execution_count": 8,
   "metadata": {},
   "outputs": [],
   "source": [
    "#Use the argmin() method to find the lowest GDP\n",
    "lowest_GDP = GDP_per_capita.argmin()"
   ]
  },
  {
   "cell_type": "code",
   "execution_count": 9,
   "metadata": {},
   "outputs": [
    {
     "data": {
      "text/plain": [
       "'Ethiopia'"
      ]
     },
     "execution_count": 9,
     "metadata": {},
     "output_type": "execute_result"
    }
   ],
   "source": [
    "#Print the name of the country\n",
    "lowest_country_GDP = countries[lowest_GDP]\n",
    "lowest_country_GDP"
   ]
  },
  {
   "cell_type": "markdown",
   "metadata": {},
   "source": [
    "#### 4: Print out text ('evaluating country') and input value ('country name') iteratively"
   ]
  },
  {
   "cell_type": "code",
   "execution_count": 10,
   "metadata": {},
   "outputs": [
    {
     "name": "stdout",
     "output_type": "stream",
     "text": [
      "evaluating country Algeria\n",
      "evaluating country Angola\n",
      "evaluating country Argentina\n",
      "evaluating country Australia\n",
      "evaluating country Austria\n",
      "evaluating country Bahamas\n",
      "evaluating country Bangladesh\n",
      "evaluating country Belarus\n",
      "evaluating country Belgium\n",
      "evaluating country Bhutan\n",
      "evaluating country Brazil\n",
      "evaluating country Bulgaria\n",
      "evaluating country Cambodia\n",
      "evaluating country Cameroon\n",
      "evaluating country Chile\n",
      "evaluating country China\n",
      "evaluating country Colombia\n",
      "evaluating country Cyprus\n",
      "evaluating country Denmark\n",
      "evaluating country El Salvador\n",
      "evaluating country Estonia\n",
      "evaluating country Ethiopia\n",
      "evaluating country Fiji\n",
      "evaluating country Finland\n",
      "evaluating country France\n",
      "evaluating country Georgia\n",
      "evaluating country Ghana\n",
      "evaluating country Grenada\n",
      "evaluating country Guinea\n",
      "evaluating country Haiti\n",
      "evaluating country Honduras\n",
      "evaluating country Hungary\n",
      "evaluating country India\n",
      "evaluating country Indonesia\n",
      "evaluating country Ireland\n",
      "evaluating country Italy\n",
      "evaluating country Japan\n",
      "evaluating country Kenya\n",
      "evaluating country South Korea\n",
      "evaluating country Liberia\n",
      "evaluating country Malaysia\n",
      "evaluating country Mexico\n",
      "evaluating country Morocco\n",
      "evaluating country Nepal\n",
      "evaluating country New Zealand\n",
      "evaluating country Norway\n",
      "evaluating country Pakistan\n",
      "evaluating country Peru\n",
      "evaluating country Qatar\n",
      "evaluating country Russia\n",
      "evaluating country Singapore\n",
      "evaluating country South Africa\n",
      "evaluating country Spain\n",
      "evaluating country Sweden\n",
      "evaluating country Switzerland\n",
      "evaluating country Thailand\n",
      "evaluating country United Arab Emirates\n",
      "evaluating country United Kingdom\n",
      "evaluating country United States\n",
      "evaluating country Uruguay\n",
      "evaluating country Venezuela\n",
      "evaluating country Vietnam\n",
      "evaluating country Zimbabwe\n"
     ]
    }
   ],
   "source": [
    "#Use a for loop to print the required output\n",
    "for c in countries:\n",
    "    print('evaluating country', c)"
   ]
  },
  {
   "cell_type": "markdown",
   "metadata": {},
   "source": [
    "#### 5: Print out the entire list of the countries with their GDPs"
   ]
  },
  {
   "cell_type": "code",
   "execution_count": 20,
   "metadata": {},
   "outputs": [
    {
     "name": "stdout",
     "output_type": "stream",
     "text": [
      "country Algeria per capita GDP is: 2255.225482\n",
      "country Angola per capita GDP is: 629.9553062\n",
      "country Argentina per capita GDP is: 11601.63022\n",
      "country Australia per capita GDP is: 25306.82494\n",
      "country Austria per capita GDP is: 27266.40335\n",
      "country Bahamas per capita GDP is: 19466.99052\n",
      "country Bangladesh per capita GDP is: 588.3691778\n",
      "country Belarus per capita GDP is: 2890.345675\n",
      "country Belgium per capita GDP is: 24733.62696\n",
      "country Bhutan per capita GDP is: 1445.760002\n",
      "country Brazil per capita GDP is: 4803.398244\n",
      "country Bulgaria per capita GDP is: 2618.876037\n",
      "country Cambodia per capita GDP is: 590.4521124\n",
      "country Cameroon per capita GDP is: 665.7982328\n",
      "country Chile per capita GDP is: 7122.938458\n",
      "country China per capita GDP is: 2639.54156\n",
      "country Colombia per capita GDP is: 3362.4656\n",
      "country Cyprus per capita GDP is: 15378.16704\n",
      "country Denmark per capita GDP is: 30860.12808\n",
      "country El Salvador per capita GDP is: 2579.115607\n",
      "country Estonia per capita GDP is: 6525.541272\n",
      "country Ethiopia per capita GDP is: 229.6769525\n",
      "country Fiji per capita GDP is: 2242.689259\n",
      "country Finland per capita GDP is: 27570.4852\n",
      "country France per capita GDP is: 23016.84778\n",
      "country Georgia per capita GDP is: 1334.646773\n",
      "country Ghana per capita GDP is: 402.6953275\n",
      "country Grenada per capita GDP is: 6047.200797\n",
      "country Guinea per capita GDP is: 394.1156638\n",
      "country Haiti per capita GDP is: 385.5793827\n",
      "country Honduras per capita GDP is: 1414.072488\n",
      "country Hungary per capita GDP is: 5745.981529\n",
      "country India per capita GDP is: 837.7464011\n",
      "country Indonesia per capita GDP is: 1206.991065\n",
      "country Ireland per capita GDP is: 27715.52837\n",
      "country Italy per capita GDP is: 18937.24998\n",
      "country Japan per capita GDP is: 39578.07441\n",
      "country Kenya per capita GDP is: 478.2194906\n",
      "country South Korea per capita GDP is: 16684.21278\n",
      "country Liberia per capita GDP is: 279.2204061\n",
      "country Malaysia per capita GDP is: 5345.213415\n",
      "country Mexico per capita GDP is: 6288.25324\n",
      "country Morocco per capita GDP is: 1908.304416\n",
      "country Nepal per capita GDP is: 274.8728621\n",
      "country New Zealand per capita GDP is: 14646.42094\n",
      "country Norway per capita GDP is: 40034.85063\n",
      "country Pakistan per capita GDP is: 672.1547506\n",
      "country Peru per capita GDP is: 3359.517402\n",
      "country Qatar per capita GDP is: 36152.66676\n",
      "country Russia per capita GDP is: 3054.727742\n",
      "country Singapore per capita GDP is: 33529.83052\n",
      "country South Africa per capita GDP is: 3825.093781\n",
      "country Spain per capita GDP is: 15428.32098\n",
      "country Sweden per capita GDP is: 33630.24604\n",
      "country Switzerland per capita GDP is: 39170.41371\n",
      "country Thailand per capita GDP is: 2699.123242\n",
      "country United Arab Emirates per capita GDP is: 21058.43643\n",
      "country United Kingdom per capita GDP is: 28272.40661\n",
      "country United States per capita GDP is: 37691.02733\n",
      "country Uruguay per capita GDP is: 9581.05659\n",
      "country Venezuela per capita GDP is: 5671.912202\n",
      "country Vietnam per capita GDP is: 757.4009286\n",
      "country Zimbabwe per capita GDP is: 347.7456605\n"
     ]
    }
   ],
   "source": [
    "#Use a for loop to print the required list\n",
    "for i, x in enumerate(countries):\n",
    "    c_gdp = GDP_per_capita[i]\n",
    "    print('country', x, 'per capita GDP is:', c_gdp)"
   ]
  },
  {
   "cell_type": "markdown",
   "metadata": {},
   "source": [
    "#### 6: Print the following:\n",
    "1. Highest GDP value\n",
    "2. Lowest GDP value\n",
    "3. Mean GDP value\n",
    "4. Standardized GDP value\n",
    "5. Sum of all the GDPs"
   ]
  },
  {
   "cell_type": "code",
   "execution_count": 25,
   "metadata": {},
   "outputs": [
    {
     "name": "stdout",
     "output_type": "stream",
     "text": [
      "Highest GDP value is: 40034.85063\n",
      "Lowest GDP value is: 229.6769525\n",
      "Mean GDP value is: 11289.409271639683\n",
      "Standardized GDP value is: 12743.828910617945\n",
      "Sum of all the GDPs is: 711232.7841133\n"
     ]
    }
   ],
   "source": [
    "print('Highest GDP value is:', GDP_per_capita.max())\n",
    "print('Lowest GDP value is:', GDP_per_capita.min())\n",
    "print('Mean GDP value is:', GDP_per_capita.mean())\n",
    "print('Standardized GDP value is:', GDP_per_capita.std())\n",
    "print('Sum of all the GDPs is:', GDP_per_capita.sum())"
   ]
  },
  {
   "cell_type": "markdown",
   "metadata": {},
   "source": [
    "### Thank you <3"
   ]
  }
 ],
 "metadata": {
  "kernelspec": {
   "display_name": "Python 3 (ipykernel)",
   "language": "python",
   "name": "python3"
  },
  "language_info": {
   "codemirror_mode": {
    "name": "ipython",
    "version": 3
   },
   "file_extension": ".py",
   "mimetype": "text/x-python",
   "name": "python",
   "nbconvert_exporter": "python",
   "pygments_lexer": "ipython3",
   "version": "3.9.9"
  }
 },
 "nbformat": 4,
 "nbformat_minor": 1
}
