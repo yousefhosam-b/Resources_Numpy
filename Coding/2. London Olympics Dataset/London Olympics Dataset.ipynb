{
 "cells": [
  {
   "cell_type": "markdown",
   "metadata": {},
   "source": [
    "# Evaluate the Summer Olympics, London 2012 dataset\n",
    "\n",
    "### Note: Credits of this work goes to simplilearn, you may check their site:\n",
    "https://www.simplilearn.com/"
   ]
  },
  {
   "cell_type": "markdown",
   "metadata": {},
   "source": [
    "#### 1: View and add the dataset"
   ]
  },
  {
   "cell_type": "code",
   "execution_count": 1,
   "metadata": {},
   "outputs": [],
   "source": [
    "#Import the necessary library\n",
    "import numpy as np"
   ]
  },
  {
   "cell_type": "code",
   "execution_count": 2,
   "metadata": {},
   "outputs": [],
   "source": [
    "#Manually add the Summer Olympics, London 2012 dataset as arrays\n",
    "olympic_country = np.array(['GBR', 'CHN', 'RUS', 'US', 'KOR', 'JPN', 'GER'])\n",
    "olympic_country_gold = np.array([29, 38, 24, 46, 13, 7, 11])\n",
    "olympic_country_silver = np.array([17, 28, 25, 28, 8, 14, 11])\n",
    "olympic_country_bronze = np.array([19, 22, 32, 29, 7, 17, 14])"
   ]
  },
  {
   "cell_type": "markdown",
   "metadata": {},
   "source": [
    "#### Find the country with maximum gold medals"
   ]
  },
  {
   "cell_type": "code",
   "execution_count": 3,
   "metadata": {},
   "outputs": [],
   "source": [
    "#Use the argmax() method to find the highest number of gold medals\n",
    "max_gold = olympic_country_gold.argmax()"
   ]
  },
  {
   "cell_type": "code",
   "execution_count": 4,
   "metadata": {},
   "outputs": [
    {
     "data": {
      "text/plain": [
       "'US'"
      ]
     },
     "execution_count": 4,
     "metadata": {},
     "output_type": "execute_result"
    }
   ],
   "source": [
    "#Print the name of the country\n",
    "max_gold_country = olympic_country[max_gold]\n",
    "max_gold_country"
   ]
  },
  {
   "cell_type": "markdown",
   "metadata": {},
   "source": [
    "#### Find the countries with more than 20 gold medals"
   ]
  },
  {
   "cell_type": "code",
   "execution_count": 6,
   "metadata": {},
   "outputs": [
    {
     "name": "stdout",
     "output_type": "stream",
     "text": [
      "['GBR' 'CHN' 'RUS' 'US']\n"
     ]
    }
   ],
   "source": [
    "#Use Boolean indexing technique to find the required output\n",
    "print(olympic_country[olympic_country_gold > 20])"
   ]
  },
  {
   "cell_type": "markdown",
   "metadata": {},
   "source": [
    "#### Evaluate the dataset and print the name of each country with its gold medals and total number of medals"
   ]
  },
  {
   "cell_type": "code",
   "execution_count": 7,
   "metadata": {},
   "outputs": [
    {
     "name": "stdout",
     "output_type": "stream",
     "text": [
      "GBR, Gold medals: 29, Total medals: 65\n",
      "CHN, Gold medals: 38, Total medals: 88\n",
      "RUS, Gold medals: 24, Total medals: 81\n",
      "US, Gold medals: 46, Total medals: 103\n",
      "KOR, Gold medals: 13, Total medals: 28\n",
      "JPN, Gold medals: 7, Total medals: 38\n",
      "GER, Gold medals: 11, Total medals: 36\n"
     ]
    }
   ],
   "source": [
    "#Use a for loop to create the required output\n",
    "for i, x in enumerate(olympic_country):\n",
    "    gold_medal = olympic_country_gold[i]\n",
    "    total_medal = olympic_country_gold[i] + olympic_country_silver[i] + olympic_country_bronze[i]\n",
    "    print('{}, Gold medals: {}, Total medals: {}'.format(x, gold_medal, total_medal))"
   ]
  },
  {
   "cell_type": "markdown",
   "metadata": {},
   "source": [
    "### Thanks for stopping by <3"
   ]
  }
 ],
 "metadata": {
  "kernelspec": {
   "display_name": "Python 3 (ipykernel)",
   "language": "python",
   "name": "python3"
  },
  "language_info": {
   "codemirror_mode": {
    "name": "ipython",
    "version": 3
   },
   "file_extension": ".py",
   "mimetype": "text/x-python",
   "name": "python",
   "nbconvert_exporter": "python",
   "pygments_lexer": "ipython3",
   "version": "3.9.9"
  }
 },
 "nbformat": 4,
 "nbformat_minor": 1
}
